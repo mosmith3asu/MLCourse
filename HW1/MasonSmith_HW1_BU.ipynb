{
 "cells": [
  {
   "cell_type": "markdown",
   "source": [
    "# Homework 1\n",
    "## Mason Smith"
   ],
   "metadata": {
    "collapsed": false
   },
   "id": "f2ef7fa712f51941"
  },
  {
   "cell_type": "code",
   "execution_count": 109,
   "outputs": [
    {
     "name": "stdout",
     "output_type": "stream",
     "text": [
      "Shape(901, 8)\n",
      "[['Area' 'MajorAxisLength' 'MinorAxisLength' 'Eccentricity' 'ConvexArea'\n",
      "  'Extent' 'Perimeter' 'Class']\n",
      " [87524.0 442.2460114 253.291155 0.819738392 90546.0 0.758650579 1184.04\n",
      "  'Kecimen']]\n"
     ]
    }
   ],
   "source": [
    "\n",
    "\n",
    "# Import data and packages\n",
    "import numpy as np\n",
    "import matplotlib.pyplot as plt\n",
    "X = np.loadtxt(\"Raisin_Dataset/Raisin_Dataset.csv\", delimiter=\",\", dtype=object)\n",
    "X[1:,:-1] = X[1:,:-1].astype(float)\n",
    "print(f'Shape{X.shape}')\n",
    "print(X[0:2,:])\n",
    "labels = X[0,:].tolist()\n",
    "N = X[1:,:-1].shape[0]"
   ],
   "metadata": {
    "collapsed": false,
    "ExecuteTime": {
     "end_time": "2023-09-14T17:07:39.368214611Z",
     "start_time": "2023-09-14T17:07:39.323754707Z"
    }
   },
   "id": "be12c3ffac1fbf82"
  },
  {
   "cell_type": "markdown",
   "source": [
    "# Part 1"
   ],
   "metadata": {
    "collapsed": false
   },
   "id": "caa16ae11fc56820"
  },
  {
   "cell_type": "markdown",
   "source": [
    "### 1. What is the number of classes in this dataset? (2 pts)\n",
    "ANS: There are 2 classes: Kecimen and Besni raisin.\n",
    "\n",
    "### 2. Calculate the log odds for the data. Write the discriminant function in terms of the log odds. (6 pts)\n",
    "Log Odds: $log\\frac{P(C_1|\\mathbf{x})}{P(C_2|\\mathbf{x})}$\n",
    "Let: $C_1$ be Kecimen and $C_2$ be Besni"
   ],
   "metadata": {
    "collapsed": false
   },
   "id": "20553c5c7e3c5a65"
  },
  {
   "cell_type": "code",
   "execution_count": 110,
   "outputs": [
    {
     "name": "stdout",
     "output_type": "stream",
     "text": [
      "Log Odds = 0.0\n"
     ]
    }
   ],
   "source": [
    "N = X[1:,:-1].shape[0]\n",
    "P1 = np.sum((X[:,-1]=='Kecimen').astype(int))/N\n",
    "P2 = np.sum((X[:,-1]=='Besni').astype(int))/N\n",
    "LO = np.log(P1/P2)\n",
    "print(f'Log Odds = {LO}')"
   ],
   "metadata": {
    "collapsed": false,
    "ExecuteTime": {
     "end_time": "2023-09-14T17:07:39.373982118Z",
     "start_time": "2023-09-14T17:07:39.368021452Z"
    }
   },
   "id": "1a321a6b27830cf2"
  },
  {
   "cell_type": "markdown",
   "source": [
    "Discriminant:\n",
    "- let $g(x) = log\\frac{P(C_1|\\mathbf{x})}{P(C_2|\\mathbf{x})}$\n",
    "- choose $c_1$ if $g(x)>0$ and $c_2$ otherwise"
   ],
   "metadata": {
    "collapsed": false
   },
   "id": "a74f7780a3ad44b"
  },
  {
   "cell_type": "markdown",
   "source": [
    "### 3. Assume that the input attributes are multivariate normal. Further assume that the input attributes in each class follow a different multivariate distribution. Calculate the mean vector and covariance matrix for the input attributes in each class. (Hint: consider your answer in 1. You should obtain this many sets of mean vector and covariance matrix.) (8 pts)"
   ],
   "metadata": {
    "collapsed": false
   },
   "id": "8c6305d7d350f72d"
  },
  {
   "cell_type": "markdown",
   "source": [
    "- Mean: $m_i = \\frac{1}{N_i}\\sum x_i$\n",
    "- Cov: $S_i =(X_i - m_i)(X_i - m_i)^T$"
   ],
   "metadata": {
    "collapsed": false
   }
  },
  {
   "cell_type": "code",
   "execution_count": 111,
   "outputs": [
    {
     "name": "stdout",
     "output_type": "stream",
     "text": [
      "\n",
      "\n",
      "################################\n",
      "###### FOR CLASS [Kecimen] #####\n",
      "\n",
      "Mean [6.34134667e+04 3.52859249e+02 2.29352592e+02 7.41959536e-01\n",
      " 6.56963556e+04 7.07774246e-01 9.83686236e+02]\n",
      "\n",
      "Covariance matrix of S \\in (7, 7)\n",
      " [[ 3.14273786e+08  9.48747383e+05  5.26930055e+05  1.22544439e+02\n",
      "   3.34178076e+08 -2.07582479e+00  2.54722952e+06]\n",
      " [ 9.48747383e+05  3.55353016e+03  1.18448636e+03  2.51733540e+00\n",
      "   1.03802111e+06 -5.20182414e-01  8.54753908e+03]\n",
      " [ 5.26930055e+05  1.18448636e+03  1.15999213e+03 -1.20695931e+00\n",
      "   5.46132789e+05  3.02579660e-01  3.86602972e+03]\n",
      " [ 1.22544439e+02  2.51733540e+00 -1.20695931e+00  8.53068902e-03\n",
      "   1.67623514e+02 -1.48948577e-03  2.94190389e+00]\n",
      " [ 3.34178076e+08  1.03802111e+06  5.46132789e+05  1.67623514e+02\n",
      "   3.61223925e+08 -4.86447443e+01  2.79465818e+06]\n",
      " [-2.07582479e+00 -5.20182414e-01  3.02579660e-01 -1.48948577e-03\n",
      "  -4.86447443e+01  1.88722736e-03 -1.03066330e+00]\n",
      " [ 2.54722952e+06  8.54753908e+03  3.86602972e+03  2.94190389e+00\n",
      "   2.79465818e+06 -1.03066330e+00  2.25917527e+04]]\n",
      "\n",
      "\n",
      "################################\n",
      "###### FOR CLASS [Besni] #####\n",
      "\n",
      "Mean [1.12194789e+05 5.09000652e+02 2.79623674e+02 8.21124764e-01\n",
      " 1.16675824e+05 6.91241607e-01 1.34812704e+03]\n",
      "\n",
      "Covariance matrix of S \\in (7, 7)\n",
      " [[ 1.53898489e+09  3.68653571e+06  1.78347214e+06  3.12843878e+02\n",
      "   1.59035722e+09  3.49850895e+02  9.09633000e+06]\n",
      " [ 3.68653571e+06  1.11875370e+04  3.33731160e+03  3.53459402e+00\n",
      "   3.92432667e+06 -7.18686096e-01  2.51395741e+04]\n",
      " [ 1.78347214e+06  3.33731160e+03  2.57694886e+03 -1.03758907e+00\n",
      "   1.82437853e+06  8.91603365e-01  9.62506715e+03]\n",
      " [ 3.12843878e+02  3.53459402e+00 -1.03758907e+00  4.66176366e-03\n",
      "   3.77209355e+02 -1.34578452e-03  4.77191184e+00]\n",
      " [ 1.59035722e+09  3.92432667e+06  1.82437853e+06  3.77209355e+02\n",
      "   1.66440074e+09  2.31806348e+02  9.71971332e+06]\n",
      " [ 3.49850895e+02 -7.18686096e-01  8.91603365e-01 -1.34578452e-03\n",
      "   2.31806348e+02  3.69986821e-03 -1.03347915e+00]\n",
      " [ 9.09633000e+06  2.51395741e+04  9.62506715e+03  4.77191184e+00\n",
      "   9.71971332e+06 -1.03347915e+00  6.09125161e+04]]\n"
     ]
    }
   ],
   "source": [
    "# C = 'Kecimen' # class\n",
    "Si = []\n",
    "mi = []\n",
    "\n",
    "for i, C in enumerate(['Kecimen','Besni']):\n",
    "    ic = np.where(X[:,-1]==C)[0]#.flatten()\n",
    "    Xi = X[ic,:-1].astype(float) # Input attributes for class c\n",
    "    _mi = np.mean(Xi,axis=0) # mean vector\n",
    "    _Si = np.cov(Xi.T) # covariance\n",
    "    Si.append(_Si)\n",
    "    mi.append(_mi)\n",
    "\n",
    "    print('\\n\\n################################')\n",
    "    print(f'###### FOR CLASS [{C}] #####')\n",
    "    print(f'\\nMean {_mi}')\n",
    "    print(f\"\\nCovariance matrix of S \\in {_Si.shape}\\n {_Si}\")"
   ],
   "metadata": {
    "collapsed": false,
    "ExecuteTime": {
     "end_time": "2023-09-14T17:07:39.374636957Z",
     "start_time": "2023-09-14T17:07:39.373320667Z"
    }
   },
   "id": "5f96edc3710b9854"
  },
  {
   "cell_type": "markdown",
   "source": [
    "## 4. Given  your  answer  in  3,  generate 10  samples from  each  of  the  multivariate  distributions.  (Hints:  the number of samples generated should be 10 times number of classes.) (10 pts)\n"
   ],
   "metadata": {
    "collapsed": false
   }
  },
  {
   "cell_type": "code",
   "execution_count": 112,
   "outputs": [
    {
     "name": "stdout",
     "output_type": "stream",
     "text": [
      "\n",
      "\n",
      "Samples for Ci=Kecimen with shape (10, 7)\n",
      "[[3.08693022e+04 2.61406842e+02 1.74320188e+02 7.49264734e-01\n",
      "  3.21571707e+04 6.92826236e-01 7.49516105e+02]\n",
      " [9.73076353e+04 4.64630244e+02 2.78669234e+02 8.12635844e-01\n",
      "  1.01627422e+05 7.26506093e-01 1.27385615e+03]\n",
      " [2.84850005e+04 2.18124670e+02 1.79164413e+02 7.02265899e-01\n",
      "  2.43022118e+04 7.13943512e-01 5.89280873e+02]\n",
      " [6.46564695e+04 3.10088707e+02 2.56441681e+02 5.83101472e-01\n",
      "  6.40786212e+04 7.87440482e-01 9.16585898e+02]\n",
      " [6.95736766e+04 4.23238262e+02 2.06992559e+02 9.17349616e-01\n",
      "  6.98575943e+04 6.69677152e-01 1.07194112e+03]\n",
      " [4.67391953e+04 3.33189194e+02 1.77274308e+02 8.75650467e-01\n",
      "  5.02036319e+04 7.44645244e-01 8.66381872e+02]\n",
      " [6.92245500e+04 4.27562333e+02 2.02669228e+02 9.15455527e-01\n",
      "  7.31614544e+04 6.80354060e-01 1.07639228e+03]\n",
      " [5.05403819e+04 3.77554838e+02 1.71995738e+02 9.16759619e-01\n",
      "  5.42625263e+04 7.16322478e-01 9.57869480e+02]\n",
      " [6.97630586e+04 3.94145283e+02 2.21569631e+02 8.65886938e-01\n",
      "  6.95494728e+04 6.61940876e-01 1.04830643e+03]\n",
      " [3.34611497e+04 2.33732818e+02 1.97551305e+02 6.73098333e-01\n",
      "  2.92657862e+04 7.75386726e-01 6.86939255e+02]]\n",
      "\n",
      "\n",
      "Samples for Ci=Besni with shape (10, 7)\n",
      "[[1.49653158e+05 5.64880932e+02 3.29938850e+02 8.17728281e-01\n",
      "  1.49463845e+05 7.68836807e-01 1.46908019e+03]\n",
      " [9.13621734e+04 5.36614171e+02 2.42099166e+02 8.57225877e-01\n",
      "  1.00323448e+05 6.21282751e-01 1.41938923e+03]\n",
      " [6.41018563e+04 4.12879707e+02 2.13890087e+02 8.54302791e-01\n",
      "  7.25528315e+04 6.72816026e-01 1.08685131e+03]\n",
      " [7.23726849e+04 3.37949998e+02 2.72094340e+02 6.85958622e-01\n",
      "  7.37644590e+04 7.33962168e-01 1.06088391e+03]\n",
      " [1.60671093e+05 6.86353936e+02 2.95013168e+02 9.59813394e-01\n",
      "  1.61593963e+05 7.61357512e-01 1.65114105e+03]\n",
      " [4.02349934e+04 3.30128441e+02 2.14196469e+02 7.60749071e-01\n",
      "  4.27703625e+04 6.72048489e-01 9.97670818e+02]\n",
      " [1.25574378e+05 5.03042991e+02 3.13343931e+02 7.87486651e-01\n",
      "  1.26593647e+05 7.71784736e-01 1.32350537e+03]\n",
      " [7.13507932e+04 4.44440517e+02 2.19770054e+02 8.42069701e-01\n",
      "  7.42398321e+04 5.70073567e-01 1.15247492e+03]\n",
      " [6.03250093e+04 3.49730886e+02 2.28519930e+02 7.85824253e-01\n",
      "  5.93438923e+04 6.51334645e-01 9.79843887e+02]\n",
      " [1.20224301e+05 5.67697257e+02 2.82305103e+02 9.07510855e-01\n",
      "  1.27907695e+05 6.44877552e-01 1.51232381e+03]]\n"
     ]
    }
   ],
   "source": [
    "Samples_i = []\n",
    "for i, C in enumerate(['Kecimen','Besni']):\n",
    "    samples_i = np.random.multivariate_normal(mi[i], Si[i],size=10)\n",
    "    print(f'\\n\\nSamples for Ci={C} with shape {samples_i.shape}')\n",
    "    print(samples_i)\n",
    "    Samples_i.append(samples_i)"
   ],
   "metadata": {
    "collapsed": false
   }
  },
  {
   "cell_type": "markdown",
   "source": [
    "## 5.  Given  the  assumption  that  input  attributes  are  multivariate  normal,  visualize  the  joint  distribution  of “MajorAxisLength”  and  “MinorAxisLength” for   each   class. Based  on  the  “multivariate  normal” assumption,  do  you  think  that “MajorAxisLength” and “MinorAxisLength” are  both univariate normal, and why? (Hint: use your results from 3 and visualize the parametric form of distribution. Create grids for [0,800]×[0,800] for 3D plots.) (10 pts)"
   ],
   "metadata": {
    "collapsed": false
   }
  },
  {
   "cell_type": "code",
   "execution_count": 113,
   "outputs": [
    {
     "data": {
      "text/plain": "<Figure size 640x480 with 4 Axes>",
      "image/png": "[encoded data removed]"
     },
     "metadata": {},
     "output_type": "display_data"
    }
   ],
   "source": [
    "from sklearn.decomposition import PCA\n",
    "from scipy.stats import multivariate_normal\n",
    "fig,axs = plt.subplots(2,2,constrained_layout=True)\n",
    "for i, C in enumerate(['Kecimen','Besni']):\n",
    "    xmin = 0\n",
    "    xmax = 800\n",
    "    # Plot scatterplot\n",
    "    ic = np.where(X[:,-1]==C)[0]#.flatten()\n",
    "    Xi = X[ic,:-1].astype(float) # Input attributes for class c\n",
    "    xi_MajorAxisLength = Xi[:,1]\n",
    "    xi_MinorAxisLength = Xi[:,2]\n",
    "    axs[0,i].scatter(xi_MajorAxisLength,xi_MinorAxisLength,s=1)\n",
    "    axs[0,i].set_title(C)\n",
    "    axs[0,i].set_xlabel('MajorAxisLength')\n",
    "    axs[0,i].set_ylabel('MinorAxisLength')\n",
    "    axs[0,i].set_xlim([xmin,xmax])\n",
    "    axs[0,i].set_ylim([xmin,xmax])\n",
    "    axs[0,i].set_aspect('equal', adjustable='box')\n",
    "\n",
    "\n",
    "    # use your results from 3 and visualize the parametric form of distribution. Create grids for [0,800]×[0,800] for 3D plots.\n",
    "    mean = mi[i][1:3]\n",
    "    covariance_matrix = Si[i][[1,2],:][:,[1,2]]\n",
    "    x, y = np.meshgrid(np.linspace(xmin, xmax, 100), np.linspace(xmin, xmax, 100))\n",
    "    pos = np.dstack((x, y))\n",
    "    pdf_values = multivariate_normal.pdf(pos, mean=mean, cov=covariance_matrix)\n",
    "    axs[1,i].contourf(x, y, pdf_values, cmap='viridis')\n",
    "    axs[1,i].set_xlabel('MajorAxisLength')\n",
    "    axs[1,i].set_ylabel('MinorAxisLength')\n",
    "    axs[1,i].set_title('Parametric Distribution')\n",
    "    axs[1,i].set_xlim([xmin,xmax])\n",
    "    axs[1,i].set_ylim([xmin,xmax])\n",
    "    axs[1,i].set_aspect('equal', adjustable='box')\n",
    "plt.show()"
   ],
   "metadata": {
    "collapsed": false
   }
  },
  {
   "cell_type": "markdown",
   "source": [
    "Since the input data is multi-variate normal, the MajorAxisLength and MinorAxisLength are both univariate normal as confirmed by the above plots."
   ],
   "metadata": {
    "collapsed": false
   }
  },
  {
   "cell_type": "markdown",
   "source": [
    "## 6. Given your answers in 3,write the functional form of the likelihood ratio. You may define notations for the mean and covariance of each class. (6 pts)"
   ],
   "metadata": {
    "collapsed": false
   }
  },
  {
   "cell_type": "markdown",
   "source": [
    "- Let: $C_1$ be Kecimen and $C_2$ be Besni\n",
    "- Likelihood Ratio: $\\frac{p(x|C_1)}{p(x|C_2)}$\n",
    "- $ p(\\mathbf{x}|C_1) = \\frac{1}{(2\\pi)^{d/2}|\\Sigma_1|^{1/2}}   exp\\Big(-\\frac{1}{2}(\\mathbf{x}-\\mu_1)^T \\Sigma_1^{-1} (\\mathbf{x}-\\mu_1)\\Big)$\n",
    "- $ p(\\mathbf{x}|C_2) = \\frac{1}{(2\\pi)^{d/2}|\\Sigma_2|^{1/2}}   exp\\Big(-\\frac{1}{2}(\\mathbf{x}-\\mu_2)^T \\Sigma_2^{-1} (\\mathbf{x}-\\mu_2)\\Big)$"
   ],
   "metadata": {
    "collapsed": false
   }
  },
  {
   "cell_type": "markdown",
   "source": [
    "## 7.  Given  your  answers  in  3  and  6,  write  the discriminant function for  each  class.  Then,  calculate  the discriminant functions it for each sample point and label each of them with the class name. (Hint: see Eq. (4.20) in textbook. The “label” here is based on your calculated discriminant. You may store the labels in an Excel or .csv file.) (10 pts)\n"
   ],
   "metadata": {
    "collapsed": false
   }
  },
  {
   "cell_type": "markdown",
   "source": [
    "Eq. (4.20): $g_i(x) = log\\;p(x|C_i) + log \\;P(C_i)$\n",
    "Assume $p(x|C_i)$ is Gaussian (from problem 6)\n",
    "We get discriminant function: $g_i(x) = -\\frac{1}{2}log(2\\pi)-log(\\sigma_i^2)+log(P(C_i))$\n",
    "\n",
    "$g_i(\\mathbf{x})= log\\;p(\\mathbf{x}|C_i) + log \\;P(C_i) = -\\frac{d}{2}log(2\\pi)-\\frac{1}{2}log|\\Sigma_i|-\\frac{1}{2}(\\mathbf{x}-\\mu_i)^T \\Sigma_i^{-1} (\\mathbf{x}-\\mu_i) + log(P(C_i))$\n",
    "\n",
    "Sample Discriminant (5.19):\n",
    "$g_i(\\mathbf{x})= -\\frac{1}{2}log|S_i|-\\frac{1}{2}(\\mathbf{x}-m_i)^T S_i^{-1} (\\mathbf{x}-m_i) + log(P(C_i))$"
   ],
   "metadata": {
    "collapsed": false
   }
  },
  {
   "cell_type": "code",
   "execution_count": 114,
   "outputs": [
    {
     "name": "stdout",
     "output_type": "stream",
     "text": [
      "Perc. Correct: 0.86\n"
     ]
    }
   ],
   "source": [
    "def problem_7():\n",
    "    rt = [] # true label\n",
    "    rhat_t = [] # predicted label\n",
    "    P_Ci = 0.5 # prob of observing class i\n",
    "    for t in range(N):\n",
    "        # Get sample\n",
    "        xt = X[t+1,:-1].astype(float)\n",
    "\n",
    "        # Clac Discriminant for each class i\n",
    "        gi = [None,None]\n",
    "        for i in range(2):\n",
    "            term1 = -0.5*np.log(np.linalg.det(Si[i]))\n",
    "            term2 = -0.5*(xt-mi[i]) @ np.linalg.inv(Si[i]) @ (xt -mi[i]).T\n",
    "            term3 =  np.log(P_Ci)\n",
    "            gi[i] = term1+term2+term3\n",
    "\n",
    "        # Store prediciton and true label\n",
    "        rt.append( 0 if X[t+1,-1]==\"Kecimen\" else 1) # true label\n",
    "        rhat = np.argmax(gi)\n",
    "        rhat_t.append(rhat)\n",
    "    # accuracy = np.mean([int(rhat_t[t]==rt[t])for t in range(N)])\n",
    "    # print(f'Perc. Correct: {accuracy}')\n",
    "    # print(rhat_t) print(rt)\n",
    "    return rt, rhat_t\n",
    "rt,rhat_t = problem_7()\n",
    "accuracy = np.mean([int(rhat_t[t]==rt[t])for t in range(N)])\n",
    "print(f'Perc. Correct: {accuracy}')"
   ],
   "metadata": {
    "collapsed": false
   }
  },
  {
   "cell_type": "markdown",
   "source": [
    "## 8. Given your answers in 3 and 6, if pooling the covariance of all classes, write the discriminantfunction for eachclass. Then, calculate the discriminant functions it for each sample point and label each of them with the class name. (Hint: see Eq. (5.21) and (5.22) in textbook. The “label” here is based on your calculated discriminant. You may store the labels in an Excel or .csv file.) (10 pts)\n",
    "\n",
    "Another possibility is to pool the data and estimate a common covariance matrix for all classes:\n",
    "- $\\mathbf{S}=\\sum_i \\hat{P}(C_i)S_i$\n",
    "- (5.19) reduces to $g_i(\\mathbf{x})=-\\frac{1}{2}(\\mathbf{x}-m_i)^T S^{-1}(\\mathbf{x}-m_i) + log \\hat{P}(C_i)$"
   ],
   "metadata": {
    "collapsed": false
   }
  },
  {
   "cell_type": "code",
   "execution_count": 115,
   "outputs": [
    {
     "name": "stdout",
     "output_type": "stream",
     "text": [
      "Perc. Correct: 0.86\n"
     ]
    }
   ],
   "source": [
    "def problem_8():\n",
    "    Phat_Ci = [0.5,0.5] # prob of observing class i\n",
    "    S_pooled = (Phat_Ci[0])*Si[0] + (Phat_Ci[1])*Si[1]\n",
    "\n",
    "    rt = [] # true label\n",
    "    rhat_t = [] # predicted label\n",
    "    for t in range(N):\n",
    "        # Get sample\n",
    "        xt = X[t+1,:-1].astype(float)\n",
    "\n",
    "        # Clac Discriminant for each class i\n",
    "        gi = [None,None]\n",
    "        for i in range(2):\n",
    "            term1 = -0.5*(xt-mi[i]) @ np.linalg.inv(S_pooled) @ (xt -mi[i]).T\n",
    "            term2 =  np.log(Phat_Ci[i])\n",
    "            gi[i] = term1+term2\n",
    "\n",
    "        # Store prediciton and true label\n",
    "        rt.append( 0 if X[t+1,-1]==\"Kecimen\" else 1) # true label\n",
    "        rhat = np.argmax(gi)\n",
    "        rhat_t.append(rhat)\n",
    "    accuracy = np.mean([int(rhat_t[t]==rt[t])for t in range(N)])\n",
    "    # print(f'Perc. Correct: {accuracy}')\n",
    "    # print(rhat_t) print(rt)\n",
    "    return rt, rhat_t\n",
    "rt,rhat_t = problem_8()\n",
    "accuracy = np.mean([int(rhat_t[t]==rt[t])for t in range(N)])\n",
    "print(f'Perc. Correct: {accuracy}')"
   ],
   "metadata": {
    "collapsed": false
   }
  },
  {
   "cell_type": "markdown",
   "source": [
    "## 9.  Use  a confusion  matrix to  show  the  classification  results  with  the discriminant functionin  7  and  8, respectively. Calculate the classification accuracy for both and compare the results.Briefly describe your findings.(Hint: you will obtain 2 confusion matrices, one for the result in 7 and the other for 8.) (8 pts)"
   ],
   "metadata": {
    "collapsed": false
   }
  },
  {
   "cell_type": "code",
   "execution_count": 116,
   "outputs": [
    {
     "name": "stdout",
     "output_type": "stream",
     "text": [
      "\n",
      "######## From Problem 7 ##############\n",
      "Confusion Matrix: \n",
      "[[430  20]\n",
      " [106 344]]\n",
      "Accuracy per class: [0.96 0.76]\n",
      "Classification Accuracy: 0.86\n",
      "\n",
      "######## From Problem 8 ##############\n",
      "Confusion Matrix: \n",
      "[[392  58]\n",
      " [ 68 382]]\n",
      "Accuracy per class: [0.87 0.85]\n",
      "Classification Accuracy: 0.86\n"
     ]
    }
   ],
   "source": [
    "from sklearn.metrics import confusion_matrix\n",
    "rt,rhat_t = problem_7()\n",
    "CM = confusion_matrix(rt, rhat_t)\n",
    "print()\n",
    "pc_i = [None,None] # percent correct for class i\n",
    "for i in range(2):\n",
    "    nc = CM[i,i] # number of correct\n",
    "    Ni = np.sum(CM[i,:]) # total in class\n",
    "    pc_i[i] = nc/Ni # percent correct\n",
    "acuraccy = np.mean(pc_i)\n",
    "print(f'######## From Problem 7 ##############')\n",
    "print(f'Confusion Matrix: \\n{CM}')\n",
    "print(f'Accuracy per class: {np.round(pc_i,2)}')\n",
    "print(f'Classification Accuracy: {np.round(acuraccy,2)}')\n",
    "\n",
    "\n",
    "rt,rhat_t = problem_8()\n",
    "CM = confusion_matrix(rt, rhat_t)\n",
    "print()\n",
    "pc_i = [None,None] # percent correct for class i\n",
    "for i in range(2):\n",
    "    nc = CM[i,i] # number of correct\n",
    "    Ni = np.sum(CM[i,:]) # total in class\n",
    "    pc_i[i] = nc/Ni # percent correct\n",
    "acuraccy = np.mean(pc_i)\n",
    "print(f'######## From Problem 8 ##############')\n",
    "print(f'Confusion Matrix: \\n{CM}')\n",
    "print(f'Accuracy per class: {np.round(pc_i,2)}')\n",
    "print(f'Classification Accuracy: {np.round(acuraccy,2)}')"
   ],
   "metadata": {
    "collapsed": false
   }
  },
  {
   "cell_type": "markdown",
   "source": [
    "Discussion: Problem 7 formulation correctly classified Kecimen but incorrectly classified Bensi whereas Problem 8 was more balanced. However, total prediction accuracy across both formulations was the same\n"
   ],
   "metadata": {
    "collapsed": false
   }
  },
  {
   "cell_type": "markdown",
   "source": [
    "----------\n",
    "# Part 2 (60 pts)\n",
    "Do  4-fold  cross  validation  for  the  data set and  perform  classification  analysis:\n",
    "(1)  randomly  shuffle  the samples,\n",
    "(2) partition the data into 4 folds,\n",
    "(3) choose 3 out of the 4 folds as training data and the rest 1 as testing data (you can do this for 4 times by choosing 3 different folds each time)\n",
    "\n",
    "For each of the 4 replicates, do the following:"
   ],
   "metadata": {
    "collapsed": false
   }
  },
  {
   "cell_type": "markdown",
   "source": [
    "### 1.  Assume  that  the  input  attributes  are multivariate  normal.  Calculate  the  mean  vector  and  covariance matrix for the input attributes in each class using the training data. (10 pts)\n"
   ],
   "metadata": {
    "collapsed": false
   }
  },
  {
   "cell_type": "markdown",
   "source": [
    "### 2. Given your answers in 1, calculate the discriminant functionfor the testing data. Then label each testing sample with the class name. Finally, create a confusion matrixto show the classification result for testing data.(Hint: You may store the labels in an Excel or .csv file.)(15 pts)"
   ],
   "metadata": {
    "collapsed": false
   }
  },
  {
   "cell_type": "markdown",
   "source": [
    "### 3. Given your answers in 1, if poolingthe covariance of all classes, calculatethe discriminantfunctionfor thetesting data. Then label each testing sample with the class name. Finally, create a confusion matrixto show the classification result for testing data.(Hint: You may store the labels in an Excel or .csv file.)(15 pts)\n"
   ],
   "metadata": {
    "collapsed": false
   }
  },
  {
   "cell_type": "markdown",
   "source": [
    "### 4. Forthediscriminantfunctions in 2 and 3, respectively, calculate  the  average false positive rate, false negative  rate, true  positive  rate,  and true  negative  ratefor  the  classification  results  throughout  the  4 replicates that you have completed.(Hint: you will get four rates for each classification method.) (15 pts)"
   ],
   "metadata": {
    "collapsed": false
   }
  },
  {
   "cell_type": "markdown",
   "source": [
    "### 5. Briefly describe the performance of each discrimination methodand identify the best one for this datasetbased on the average performance across 4-fold cross validation.(5 pts)"
   ],
   "metadata": {
    "collapsed": false
   }
  },
  {
   "cell_type": "markdown",
   "source": [
    "-----\n",
    "# Part 3(70 pts)\n",
    "For this part, take “Area”, “MajorAxisLength”, “MinorAxisLength”, “Electricity”, “Extent”, “Perimeter” as independent variables, and “ConvexArea” as dependent variables"
   ],
   "metadata": {
    "collapsed": false
   }
  },
  {
   "cell_type": "markdown",
   "source": [
    "1. Visualize “ConvexArea” against each independent variable and describe the trend and patterns in your plots. (Hints: you will get 6 plots, each with “Area” as the vertical axis and an independent variable as the horizontal axis.) (8 pts)"
   ],
   "metadata": {
    "collapsed": false
   }
  },
  {
   "cell_type": "markdown",
   "source": [
    "2. Use the first 600 samples in the dataset as the training data and the rest as the testing data. Calculate the correlation matrix for all dependent and independent variables for the training data. Based on the correlation matrix, identify which independent variables have major impact to the dependent variable. Does the impact imply a causal relationship and why? (Hint: Save the correlations in an Excel or .csv file.) (8 pts)\n"
   ],
   "metadata": {
    "collapsed": false
   }
  },
  {
   "cell_type": "markdown",
   "source": [
    "3. Use Python to fit a linear regression model using the training data. Summarize the model coefficients. Based on the coefficients, which independent variables have more impact  to the dependent variable? (10 pts)"
   ],
   "metadata": {
    "collapsed": false
   }
  },
  {
   "cell_type": "markdown",
   "source": [
    "\n",
    "4. Use the model fitted in 3 to make predictions for testing data. Calculate the mean squared errorfor the testing samples with respect to the predictions. Do you think the model has a good prediction performance? (Hint:  input  the  testing  samples  of  independent  variables  into  your  fitted  model  and  then  evaluate  the prediction against the true sample values of dependent variable.) (8 pts)"
   ],
   "metadata": {
    "collapsed": false
   }
  },
  {
   "cell_type": "markdown",
   "source": [],
   "metadata": {
    "collapsed": false
   }
  },
  {
   "cell_type": "markdown",
   "source": [],
   "metadata": {
    "collapsed": false
   }
  },
  {
   "cell_type": "code",
   "execution_count": 116,
   "outputs": [],
   "source": [],
   "metadata": {
    "collapsed": false
   }
  }
 ],
 "metadata": {
  "kernelspec": {
   "display_name": "Python 3",
   "language": "python",
   "name": "python3"
  },
  "language_info": {
   "codemirror_mode": {
    "name": "ipython",
    "version": 2
   },
   "file_extension": ".py",
   "mimetype": "text/x-python",
   "name": "python",
   "nbconvert_exporter": "python",
   "pygments_lexer": "ipython2",
   "version": "2.7.6"
  }
 },
 "nbformat": 4,
 "nbformat_minor": 5
}

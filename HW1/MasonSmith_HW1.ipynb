{
 "cells": [
  {
   "cell_type": "markdown",
   "id": "f2ef7fa712f51941",
   "metadata": {},
   "source": [
    "# Homework 1\n",
    "## Mason Smith"
   ]
  },
  {
   "cell_type": "code",
   "execution_count": 53,
   "id": "be12c3ffac1fbf82",
   "metadata": {
    "ExecuteTime": {
     "end_time": "2023-09-14T17:07:39.368214611Z",
     "start_time": "2023-09-14T17:07:39.323754707Z"
    }
   },
   "outputs": [
    {
     "name": "stdout",
     "output_type": "stream",
     "text": [
      "Shape(901, 8)\n",
      "[['Area' 'MajorAxisLength' 'MinorAxisLength' 'Eccentricity' 'ConvexArea'\n",
      "  'Extent' 'Perimeter' 'Class']\n",
      " [87524.0 442.2460114 253.291155 0.819738392 90546.0 0.758650579 1184.04\n",
      "  'Kecimen']]\n"
     ]
    }
   ],
   "source": [
    "\n",
    "# https://www.geeksforgeeks.org/multiclass-classification-using-scikit-learn/\n",
    "# Import data and packages\n",
    "import numpy as np\n",
    "import matplotlib.pyplot as plt\n",
    "X = np.loadtxt(\"Raisin_Dataset/Raisin_Dataset.csv\", delimiter=\",\", dtype=object)\n",
    "X[1:,:-1] = X[1:,:-1].astype(float)\n",
    "print(f'Shape{X.shape}')\n",
    "print(X[0:2,:])\n",
    "labels = X[0,:].tolist()"
   ]
  },
  {
   "cell_type": "markdown",
   "id": "caa16ae11fc56820",
   "metadata": {},
   "source": [
    "# Part 1"
   ]
  },
  {
   "cell_type": "markdown",
   "id": "20553c5c7e3c5a65",
   "metadata": {},
   "source": [
    "### 1. What is the number of classes in this dataset? (2 pts)\n",
    "ANS: There are 2 classes: Kecimen and Besni raisin.\n",
    "\n",
    "### 2. Calculate the log odds for the data. Write the discriminant function in terms of the log odds. (6 pts)\n",
    "Log Odds: $log\\frac{P(C_1|\\mathbf{x})}{P(C_2|\\mathbf{x})}$\n",
    "Let: $C_1$ be Kecimen and $C_2$ be Besni"
   ]
  },
  {
   "cell_type": "code",
   "execution_count": 54,
   "id": "1a321a6b27830cf2",
   "metadata": {
    "ExecuteTime": {
     "end_time": "2023-09-14T17:07:39.373982118Z",
     "start_time": "2023-09-14T17:07:39.368021452Z"
    }
   },
   "outputs": [
    {
     "name": "stdout",
     "output_type": "stream",
     "text": [
      "Log Odds = 0.0\n"
     ]
    }
   ],
   "source": [
    "N = X[1:,:-1].shape[0]\n",
    "P1 = np.sum((X[:,-1]=='Kecimen').astype(int))/N\n",
    "P2 = np.sum((X[:,-1]=='Besni').astype(int))/N\n",
    "LO = np.log(P1/P2)\n",
    "print(f'Log Odds = {LO}')"
   ]
  },
  {
   "cell_type": "markdown",
   "id": "a74f7780a3ad44b",
   "metadata": {},
   "source": [
    "Discriminant:\n",
    "- let $g(x) = log\\frac{P(C_1|\\mathbf{x})}{P(C_2|\\mathbf{x})}$\n",
    "- choose $c_1$ if $g(x)>0$ and $c_2$ otherwise"
   ]
  },
  {
   "cell_type": "markdown",
   "id": "8c6305d7d350f72d",
   "metadata": {},
   "source": [
    "### 3. Assume that the input attributes are multivariate normal. Further assume that the input attributes in each class follow a different multivariate distribution. Calculate the mean vector and covariance matrix for the input attributes in each class. (Hint: consider your answer in 1. You should obtain this many sets of mean vector and covariance matrix.) (8 pts)"
   ]
  },
  {
   "cell_type": "markdown",
   "id": "c8e91c5a",
   "metadata": {},
   "source": [
    "- Mean: $m_i = \\frac{1}{N_i}\\sum x_i$\n",
    "- Cov: $S_i =(X_i - m_i)(X_i - m_i)^T$"
   ]
  },
  {
   "cell_type": "code",
   "execution_count": 55,
   "id": "5f96edc3710b9854",
   "metadata": {
    "ExecuteTime": {
     "end_time": "2023-09-14T17:07:39.374636957Z",
     "start_time": "2023-09-14T17:07:39.373320667Z"
    }
   },
   "outputs": [
    {
     "name": "stdout",
     "output_type": "stream",
     "text": [
      "\n",
      "\n",
      "################################\n",
      "###### FOR CLASS [Kecimen] #####\n",
      "\n",
      "Mean [6.34134667e+04 3.52859249e+02 2.29352592e+02 7.41959536e-01\n",
      " 6.56963556e+04 7.07774246e-01 9.83686236e+02]\n",
      "\n",
      "Covariance matrix of S \\in (7, 7)\n",
      " [[ 3.14273786e+08  9.48747383e+05  5.26930055e+05  1.22544439e+02\n",
      "   3.34178076e+08 -2.07582479e+00  2.54722952e+06]\n",
      " [ 9.48747383e+05  3.55353016e+03  1.18448636e+03  2.51733540e+00\n",
      "   1.03802111e+06 -5.20182414e-01  8.54753908e+03]\n",
      " [ 5.26930055e+05  1.18448636e+03  1.15999213e+03 -1.20695931e+00\n",
      "   5.46132789e+05  3.02579660e-01  3.86602972e+03]\n",
      " [ 1.22544439e+02  2.51733540e+00 -1.20695931e+00  8.53068902e-03\n",
      "   1.67623514e+02 -1.48948577e-03  2.94190389e+00]\n",
      " [ 3.34178076e+08  1.03802111e+06  5.46132789e+05  1.67623514e+02\n",
      "   3.61223925e+08 -4.86447443e+01  2.79465818e+06]\n",
      " [-2.07582479e+00 -5.20182414e-01  3.02579660e-01 -1.48948577e-03\n",
      "  -4.86447443e+01  1.88722736e-03 -1.03066330e+00]\n",
      " [ 2.54722952e+06  8.54753908e+03  3.86602972e+03  2.94190389e+00\n",
      "   2.79465818e+06 -1.03066330e+00  2.25917527e+04]]\n",
      "\n",
      "\n",
      "################################\n",
      "###### FOR CLASS [Besni] #####\n",
      "\n",
      "Mean [1.12194789e+05 5.09000652e+02 2.79623674e+02 8.21124764e-01\n",
      " 1.16675824e+05 6.91241607e-01 1.34812704e+03]\n",
      "\n",
      "Covariance matrix of S \\in (7, 7)\n",
      " [[ 1.53898489e+09  3.68653571e+06  1.78347214e+06  3.12843878e+02\n",
      "   1.59035722e+09  3.49850895e+02  9.09633000e+06]\n",
      " [ 3.68653571e+06  1.11875370e+04  3.33731160e+03  3.53459402e+00\n",
      "   3.92432667e+06 -7.18686096e-01  2.51395741e+04]\n",
      " [ 1.78347214e+06  3.33731160e+03  2.57694886e+03 -1.03758907e+00\n",
      "   1.82437853e+06  8.91603365e-01  9.62506715e+03]\n",
      " [ 3.12843878e+02  3.53459402e+00 -1.03758907e+00  4.66176366e-03\n",
      "   3.77209355e+02 -1.34578452e-03  4.77191184e+00]\n",
      " [ 1.59035722e+09  3.92432667e+06  1.82437853e+06  3.77209355e+02\n",
      "   1.66440074e+09  2.31806348e+02  9.71971332e+06]\n",
      " [ 3.49850895e+02 -7.18686096e-01  8.91603365e-01 -1.34578452e-03\n",
      "   2.31806348e+02  3.69986821e-03 -1.03347915e+00]\n",
      " [ 9.09633000e+06  2.51395741e+04  9.62506715e+03  4.77191184e+00\n",
      "   9.71971332e+06 -1.03347915e+00  6.09125161e+04]]\n"
     ]
    }
   ],
   "source": [
    "# C = 'Kecimen' # class\n",
    "Si = []\n",
    "mi = []\n",
    "\n",
    "for i, C in enumerate(['Kecimen','Besni']):\n",
    "    ic = np.where(X[:,-1]==C)[0]#.flatten()\n",
    "    Xi = X[ic,:-1].astype(float) # Input attributes for class c\n",
    "    _mi = np.mean(Xi,axis=0) # mean vector\n",
    "    _Si = np.cov(Xi.T) # covariance\n",
    "    Si.append(_Si)\n",
    "    mi.append(_mi)\n",
    "\n",
    "    print('\\n\\n################################')\n",
    "    print(f'###### FOR CLASS [{C}] #####')\n",
    "    print(f'\\nMean {_mi}')\n",
    "    print(f\"\\nCovariance matrix of S \\in {_Si.shape}\\n {_Si}\")"
   ]
  },
  {
   "cell_type": "markdown",
   "id": "c5f5b6cb",
   "metadata": {},
   "source": [
    "## 4. Given  your  answer  in  3,  generate 10  samples from  each  of  the  multivariate  distributions.  (Hints:  the number of samples generated should be 10 times number of classes.) (10 pts)\n"
   ]
  },
  {
   "cell_type": "code",
   "execution_count": 56,
   "id": "b6d904cc",
   "metadata": {},
   "outputs": [
    {
     "name": "stdout",
     "output_type": "stream",
     "text": [
      "\n",
      "\n",
      "Samples for Ci=Kecimen with shape (10, 7)\n",
      "[[7.43180710e+04 4.14692507e+02 2.36551982e+02 7.62941333e-01\n",
      "  7.97525613e+04 6.94421631e-01 1.11883766e+03]\n",
      " [8.71253130e+04 4.15978882e+02 2.79230925e+02 6.74363499e-01\n",
      "  9.09960830e+04 6.76734587e-01 1.18062299e+03]\n",
      " [3.41042961e+04 2.80953871e+02 1.74613179e+02 7.25965966e-01\n",
      "  3.57095467e+04 6.87021553e-01 7.55642017e+02]\n",
      " [6.72231978e+04 3.61905310e+02 2.37997563e+02 7.33155373e-01\n",
      "  7.34605474e+04 7.39292488e-01 1.03924157e+03]\n",
      " [5.32056220e+04 3.28615567e+02 2.02197693e+02 7.71437524e-01\n",
      "  5.58895757e+04 6.76982028e-01 8.97156241e+02]\n",
      " [4.62996670e+04 2.95267260e+02 2.11142990e+02 6.94258065e-01\n",
      "  4.65716101e+04 6.62092338e-01 8.61650202e+02]\n",
      " [5.56324132e+04 3.09611977e+02 2.18705870e+02 6.98180791e-01\n",
      "  5.72965523e+04 7.48150652e-01 8.75210840e+02]\n",
      " [6.24277372e+04 3.28780921e+02 2.44818774e+02 6.01148258e-01\n",
      "  6.46764242e+04 7.31271883e-01 9.65960443e+02]\n",
      " [7.89372488e+04 3.93828910e+02 2.62860637e+02 7.06840965e-01\n",
      "  8.17897324e+04 7.23676717e-01 1.10228226e+03]\n",
      " [3.91346253e+04 2.59800969e+02 2.15227975e+02 6.40789521e-01\n",
      "  4.13364660e+04 7.79774283e-01 8.08946859e+02]]\n",
      "\n",
      "\n",
      "Samples for Ci=Besni with shape (10, 7)\n",
      "[[ 6.75163257e+04  3.62390113e+02  2.33899119e+02  7.67055272e-01\n",
      "   6.22135148e+04  7.90281902e-01  9.48815234e+02]\n",
      " [ 1.35133596e+05  5.41216580e+02  2.94586302e+02  8.22626843e-01\n",
      "   1.33524053e+05  7.77143356e-01  1.34119353e+03]\n",
      " [-1.33674449e+04  2.25076181e+02  1.24723315e+02  8.31419477e-01\n",
      "  -1.30223911e+04  5.61964938e-01  6.65282178e+02]\n",
      " [ 1.27120864e+05  5.81391906e+02  2.82846871e+02  8.94354351e-01\n",
      "   1.31017594e+05  6.07475192e-01  1.44809454e+03]\n",
      " [ 1.01687971e+05  4.64441123e+02  2.86100722e+02  8.11221631e-01\n",
      "   1.04923427e+05  6.71535343e-01  1.27344181e+03]\n",
      " [ 1.25184029e+05  5.51455955e+02  3.14117211e+02  8.30788453e-01\n",
      "   1.34451681e+05  6.94622892e-01  1.48689912e+03]\n",
      " [ 1.63161003e+05  6.25307944e+02  3.68149365e+02  7.78907340e-01\n",
      "   1.74257305e+05  6.95325858e-01  1.72439686e+03]\n",
      " [ 1.18106730e+05  5.62772484e+02  2.56872801e+02  8.85815626e-01\n",
      "   1.26117682e+05  6.66023157e-01  1.47377922e+03]\n",
      " [ 1.13117356e+05  4.24471909e+02  3.16032599e+02  7.24171751e-01\n",
      "   1.10137435e+05  7.53036808e-01  1.25953108e+03]\n",
      " [ 6.02804136e+04  4.27112696e+02  2.02751561e+02  8.69451422e-01\n",
      "   6.41492558e+04  6.55565872e-01  1.11742377e+03]]\n"
     ]
    }
   ],
   "source": [
    "Samples_i = []\n",
    "for i, C in enumerate(['Kecimen','Besni']):\n",
    "    samples_i = np.random.multivariate_normal(mi[i], Si[i],size=10)\n",
    "    print(f'\\n\\nSamples for Ci={C} with shape {samples_i.shape}')\n",
    "    print(samples_i)\n",
    "    Samples_i.append(samples_i)"
   ]
  },
  {
   "cell_type": "markdown",
   "id": "540bdecf",
   "metadata": {},
   "source": [
    "## 5.  Given  the  assumption  that  input  attributes  are  multivariate  normal,  visualize  the  joint  distribution  of “MajorAxisLength”  and  “MinorAxisLength” for   each   class. Based  on  the  “multivariate  normal” assumption,  do  you  think  that “MajorAxisLength” and “MinorAxisLength” are  both univariate normal, and why? (Hint: use your results from 3 and visualize the parametric form of distribution. Create grids for [0,800]×[0,800] for 3D plots.) (10 pts)"
   ]
  },
  {
   "cell_type": "code",
   "execution_count": 57,
   "id": "e7fda6d4",
   "metadata": {},
   "outputs": [
    {
     "data": {
      "image/png": "[encoded data removed]",
      "text/plain": [
       "<Figure size 640x480 with 4 Axes>"
      ]
     },
     "metadata": {},
     "output_type": "display_data"
    }
   ],
   "source": [
    "def problem_5():\n",
    "    from scipy.stats import multivariate_normal\n",
    "    fig,axs = plt.subplots(2,2,constrained_layout=True)\n",
    "    for i, C in enumerate(['Kecimen','Besni']):\n",
    "        xmin = 0\n",
    "        xmax = 800\n",
    "        # Plot scatterplot\n",
    "        ic = np.where(X[:,-1]==C)[0]#.flatten()\n",
    "        Xi = X[ic,:-1].astype(float) # Input attributes for class c\n",
    "        xi_MajorAxisLength = Xi[:,1]\n",
    "        xi_MinorAxisLength = Xi[:,2]\n",
    "        axs[0,i].scatter(xi_MajorAxisLength,xi_MinorAxisLength,s=1)\n",
    "        axs[0,i].set_title(C)\n",
    "        axs[0,i].set_xlabel('MajorAxisLength')\n",
    "        axs[0,i].set_ylabel('MinorAxisLength')\n",
    "        axs[0,i].set_xlim([xmin,xmax])\n",
    "        axs[0,i].set_ylim([xmin,xmax])\n",
    "        axs[0,i].set_aspect('equal', adjustable='box')\n",
    "\n",
    "\n",
    "        # use your results from 3 and visualize the parametric form of distribution. Create grids for [0,800]×[0,800] for 3D plots.\n",
    "        mean = mi[i][1:3]\n",
    "        covariance_matrix = Si[i][[1,2],:][:,[1,2]]\n",
    "        x, y = np.meshgrid(np.linspace(xmin, xmax, 100), np.linspace(xmin, xmax, 100))\n",
    "        pos = np.dstack((x, y))\n",
    "        pdf_values = multivariate_normal.pdf(pos, mean=mean, cov=covariance_matrix)\n",
    "        axs[1,i].contourf(x, y, pdf_values, cmap='viridis')\n",
    "        axs[1,i].set_xlabel('MajorAxisLength')\n",
    "        axs[1,i].set_ylabel('MinorAxisLength')\n",
    "        axs[1,i].set_title('Parametric Distribution')\n",
    "        axs[1,i].set_xlim([xmin,xmax])\n",
    "        axs[1,i].set_ylim([xmin,xmax])\n",
    "        axs[1,i].set_aspect('equal', adjustable='box')\n",
    "    plt.show()\n",
    "problem_5()"
   ]
  },
  {
   "cell_type": "markdown",
   "id": "b999c5c6",
   "metadata": {},
   "source": [
    "Since the input data is multi-variate normal, the MajorAxisLength and MinorAxisLength are both univariate normal as confirmed by the above plots."
   ]
  },
  {
   "cell_type": "markdown",
   "id": "c0711393",
   "metadata": {},
   "source": [
    "## 6. Given your answers in 3,write the functional form of the likelihood ratio. You may define notations for the mean and covariance of each class. (6 pts)"
   ]
  },
  {
   "cell_type": "markdown",
   "id": "a9e9a711",
   "metadata": {},
   "source": [
    "- Let: $C_1$ be Kecimen and $C_2$ be Besni\n",
    "- Likelihood Ratio: $\\frac{p(x|C_1)}{p(x|C_2)}$\n",
    "- $ p(\\mathbf{x}|C_1) = \\frac{1}{(2\\pi)^{d/2}|\\Sigma_1|^{1/2}}   exp\\Big(-\\frac{1}{2}(\\mathbf{x}-\\mu_1)^T \\Sigma_1^{-1} (\\mathbf{x}-\\mu_1)\\Big)$\n",
    "- $ p(\\mathbf{x}|C_2) = \\frac{1}{(2\\pi)^{d/2}|\\Sigma_2|^{1/2}}   exp\\Big(-\\frac{1}{2}(\\mathbf{x}-\\mu_2)^T \\Sigma_2^{-1} (\\mathbf{x}-\\mu_2)\\Big)$"
   ]
  },
  {
   "cell_type": "markdown",
   "id": "1dc16d34",
   "metadata": {},
   "source": [
    "## 7.  Given  your  answers  in  3  and  6,  write  the discriminant function for  each  class.  Then,  calculate  the discriminant functions it for each sample point and label each of them with the class name. (Hint: see Eq. (4.20) in textbook. The “label” here is based on your calculated discriminant. You may store the labels in an Excel or .csv file.) (10 pts)\n"
   ]
  },
  {
   "cell_type": "markdown",
   "id": "15edc2cc",
   "metadata": {},
   "source": [
    "Eq. (4.20): $g_i(x) = log\\;p(x|C_i) + log \\;P(C_i)$\n",
    "Assume $p(x|C_i)$ is Gaussian (from problem 6)\n",
    "We get discriminant function: $g_i(x) = -\\frac{1}{2}log(2\\pi)-log(\\sigma_i^2)+log(P(C_i))$\n",
    "\n",
    "$g_i(\\mathbf{x})= log\\;p(\\mathbf{x}|C_i) + log \\;P(C_i) = -\\frac{d}{2}log(2\\pi)-\\frac{1}{2}log|\\Sigma_i|-\\frac{1}{2}(\\mathbf{x}-\\mu_i)^T \\Sigma_i^{-1} (\\mathbf{x}-\\mu_i) + log(P(C_i))$\n",
    "\n",
    "Sample Discriminant\n",
    "$g_i(\\mathbf{x})= -\\frac{1}{2}log|S_i|-\\frac{1}{2}(\\mathbf{x}-m_i)^T S_i^{-1} (\\mathbf{x}-m_i) + log(P(C_i))$"
   ]
  },
  {
   "cell_type": "code",
   "execution_count": 58,
   "id": "f81211d3",
   "metadata": {},
   "outputs": [
    {
     "name": "stdout",
     "output_type": "stream",
     "text": [
      "Perc. Correct: 0.86\n"
     ]
    }
   ],
   "source": [
    "def problem_7():\n",
    "    rt = [] # true label\n",
    "    rhat_t = [] # predicted label\n",
    "    P_Ci = 0.5 # prob of observing class i\n",
    "    for t in range(N):\n",
    "        # Get sample\n",
    "        xt = X[t+1,:-1].astype(float)\n",
    "\n",
    "        # Clac Discriminant for each class i\n",
    "        gi = [None,None]\n",
    "        for i in range(2):\n",
    "            term1 = -0.5*np.log(np.linalg.det(Si[i]))\n",
    "            term2 = -0.5*(xt-mi[i]) @ np.linalg.inv(Si[i]) @ (xt -mi[i]).T\n",
    "            term3 =  np.log(P_Ci)\n",
    "            gi[i] = term1+term2+term3\n",
    "\n",
    "        # Store prediciton and true label\n",
    "        rt.append( 0 if X[t+1,-1]==\"Kecimen\" else 1) # true label\n",
    "        rhat = np.argmax(gi)\n",
    "        rhat_t.append(rhat)\n",
    "    # accuracy = np.mean([int(rhat_t[t]==rt[t])for t in range(N)])\n",
    "    # print(f'Perc. Correct: {accuracy}')\n",
    "    # print(rhat_t) print(rt)\n",
    "    return rt, rhat_t\n",
    "rt,rhat_t = problem_7()\n",
    "accuracy = np.mean([int(rhat_t[t]==rt[t])for t in range(N)])\n",
    "print(f'Perc. Correct: {accuracy}')"
   ]
  },
  {
   "cell_type": "markdown",
   "id": "446e6e88",
   "metadata": {},
   "source": [
    "## 8. Given your answers in 3 and 6, if poolingthe covariance of all classes, write the discriminantfunction for eachclass. Then, calculate the discriminant functions it for each sample point and label each of them with the class name. (Hint: see Eq. (5.21) and (5.22) in textbook. The “label” here is based on your calculated discriminant. You may store the labels in an Excel or .csv file.) (10 pts)\n",
    "\n",
    "Another possibility is to pool the data and estimate a common covariance matrix for all classes:\n",
    "- $\\mathbf{S}=\\sum_i \\hat{P}(C_i)S_i$\n",
    "- (5.19) reduces to $g_i(\\mathbf{x})=-\\frac{1}{2}(\\mathbf{x}-m_i)^T S^{-1}(\\mathbf{x}-m_i) + log \\hat{P}(C_i)$\n"
   ]
  },
  {
   "cell_type": "code",
   "execution_count": 59,
   "id": "98836d3e",
   "metadata": {},
   "outputs": [
    {
     "name": "stdout",
     "output_type": "stream",
     "text": [
      "Perc. Correct: 0.86\n"
     ]
    }
   ],
   "source": [
    "def problem_8():\n",
    "    Phat_Ci = [0.5,0.5] # prob of observing class i\n",
    "    S_pooled = (Phat_Ci[0])*Si[0] + (Phat_Ci[1])*Si[1]\n",
    "\n",
    "    rt = [] # true label\n",
    "    rhat_t = [] # predicted label\n",
    "    for t in range(N):\n",
    "        # Get sample\n",
    "        xt = X[t+1,:-1].astype(float)\n",
    "\n",
    "\n",
    "        # Clac Discriminant for each class i\n",
    "        gi = [None,None]\n",
    "        for i in range(2):\n",
    "            term1 = -0.5*(xt-mi[i]) @ np.linalg.inv(S_pooled) @ (xt -mi[i]).T\n",
    "            term2 =  np.log(Phat_Ci[i])\n",
    "            gi[i] = term1+term2\n",
    "\n",
    "        # Store prediciton and true label\n",
    "        rt.append( 0 if X[t+1,-1]==\"Kecimen\" else 1) # true label\n",
    "        rhat = np.argmax(gi)\n",
    "        rhat_t.append(rhat)\n",
    "    accuracy = np.mean([int(rhat_t[t]==rt[t])for t in range(N)])\n",
    "    # print(f'Perc. Correct: {accuracy}')\n",
    "    # print(rhat_t) print(rt)\n",
    "    return rt, rhat_t\n",
    "rt,rhat_t = problem_8()\n",
    "accuracy = np.mean([int(rhat_t[t]==rt[t])for t in range(N)])\n",
    "print(f'Perc. Correct: {accuracy}')"
   ]
  },
  {
   "cell_type": "markdown",
   "id": "f87d41c7",
   "metadata": {},
   "source": [
    "## 9.  Use  a confusion  matrix to  show  the  classification  results  with  the discriminantfunctionin  7  and  8, respectively. Calculate the classification accuracy for both and compare the results.Briefly describe your findings.(Hint: you will obtain 2 confusion matrices, one for the result in 7 and the other for 8.) (8 pts)"
   ]
  },
  {
   "cell_type": "code",
   "execution_count": 60,
   "id": "3e85eab7",
   "metadata": {},
   "outputs": [
    {
     "name": "stdout",
     "output_type": "stream",
     "text": [
      "\n",
      "######## From Problem 7 ##############\n",
      "Confusion Matrix: \n",
      "[[430  20]\n",
      " [106 344]]\n",
      "Accuracy per class: [0.96 0.76]\n",
      "Classification Accuracy: 0.86\n",
      "\n",
      "######## From Problem 8 ##############\n",
      "Confusion Matrix: \n",
      "[[392  58]\n",
      " [ 68 382]]\n",
      "Accuracy per class: [0.87 0.85]\n",
      "Classification Accuracy: 0.86\n",
      "\n",
      "\n",
      "Discussion: Problem 7 formulation correctly classified Kecimen more but incorrectly classified Bensi more also whereas Problem 8 was more balanced. However, total prediction accuracy across both formulations was the same.\n"
     ]
    }
   ],
   "source": [
    "def problem_1_9():\n",
    "    from sklearn.metrics import confusion_matrix\n",
    "    rt,rhat_t = problem_7()\n",
    "    CM = confusion_matrix(rt, rhat_t)\n",
    "    print()\n",
    "    pc_i = [None,None] # percent correct for class i\n",
    "    for i in range(2):\n",
    "        nc = CM[i,i] # number of correct\n",
    "        Ni = np.sum(CM[i,:]) # total in class\n",
    "        pc_i[i] = nc/Ni # percent correct\n",
    "    acuraccy = np.mean(pc_i)\n",
    "    print(f'######## From Problem 7 ##############')\n",
    "    print(f'Confusion Matrix: \\n{CM}')\n",
    "    print(f'Accuracy per class: {np.round(pc_i,2)}')\n",
    "    print(f'Classification Accuracy: {np.round(acuraccy,2)}')\n",
    "\n",
    "\n",
    "    rt,rhat_t = problem_8()\n",
    "    CM = confusion_matrix(rt, rhat_t)\n",
    "    print()\n",
    "    pc_i = [None,None] # percent correct for class i\n",
    "    for i in range(2):\n",
    "        nc = CM[i,i] # number of correct\n",
    "        Ni = np.sum(CM[i,:]) # total in class\n",
    "        pc_i[i] = nc/Ni # percent correct\n",
    "    acuraccy = np.mean(pc_i)\n",
    "    print(f'######## From Problem 8 ##############')\n",
    "    print(f'Confusion Matrix: \\n{CM}')\n",
    "    print(f'Accuracy per class: {np.round(pc_i,2)}')\n",
    "    print(f'Classification Accuracy: {np.round(acuraccy,2)}')\n",
    "\n",
    "    print(f'\\n\\nDiscussion: Problem 7 formulation correctly classified Kecimen more but incorrectly classified Bensi more also whereas Problem 8 was more balanced. However, total prediction accuracy across both formulations was the same.')\n",
    "problem_1_9()"
   ]
  },
  {
   "cell_type": "markdown",
   "id": "8612b6d4",
   "metadata": {},
   "source": [
    "----------\n",
    "# Part 2 (60 pts)\n",
    "Do  4-fold  cross  validation  for  the  data set and  perform  classification  analysis:\n",
    "(1)  randomly  shuffle  the samples,\n",
    "(2) partition the data into 4 folds,\n",
    "(3) choose 3 out of the 4 folds as training data and the rest 1 as testing data (you can do this for 4 times by choosing 3 different folds each time)\n",
    "\n",
    "For each of the 4 replicates, do the following:"
   ]
  },
  {
   "cell_type": "code",
   "execution_count": 61,
   "id": "dbfc8db5",
   "metadata": {},
   "outputs": [
    {
     "name": "stdout",
     "output_type": "stream",
     "text": [
      "Non-Pooled Average [fp,fn,tp,tn] = [27.0, 7.5, 105.0, 85.5]\n",
      "Non-Pooled Accuracy = 0.8466666666666667\n",
      "Pooled Average [fp,fn,tp,tn] = [17.5, 15.25, 97.25, 95.0]\n",
      "Pooled Accuracy = 0.8544444444444445\n"
     ]
    }
   ],
   "source": [
    "import numpy as np\n",
    "import matplotlib.pyplot as plt\n",
    "from sklearn.metrics import confusion_matrix\n",
    "\n",
    "def partition_4fold():\n",
    "    N = 900\n",
    "    data = np.loadtxt(\"Raisin_Dataset/Raisin_Dataset.csv\", delimiter=\",\", dtype=object)[1:,:]\n",
    "    data[np.where(data[:, -1] == 'Kecimen'),-1] = 0\n",
    "    data[np.where(data[:, -1] == 'Besni'),-1] = 1\n",
    "    data[:,:-1] = data[:,:-1].astype(float)\n",
    "    # np.random.shuffle(data)\n",
    "    Xt = data[:,:-1].astype(float)\n",
    "    rt = data[:,-1].reshape([N,1]).astype(int)\n",
    "\n",
    "    Xt_4fold = [Xt[int((f)*(N/4)):int((f+1)*(N/4)),:] for f in range(4)]\n",
    "    rt_4fold = [rt[int((f)*(N/4)):int((f+1)*(N/4)),:] for f in range(4)]\n",
    "    return Xt_4fold,rt_4fold\n",
    "Xt_4fold,rt_4fold = partition_4fold()\n",
    "\n",
    "###################################################################\n",
    "# Get train and test data\n",
    "###################################################################\n",
    "verbose = False\n",
    "Confusion = {'fp':[],'fn':[],'tp':[],'tn':[]}\n",
    "Confusion_pooled = {'fp':[],'fn':[],'tp':[],'tn':[]}\n",
    "\n",
    "for iFold in range(4):\n",
    "    if verbose:\n",
    "        print(f'\\n####### FOLD {iFold+1} ########')\n",
    "\n",
    "    ifold_train = [0,1,2,3]\n",
    "    ifold_train.remove(iFold)\n",
    "    Xt = np.vstack([Xt_4fold[f] for f in ifold_train]).astype(float) # train input\n",
    "    rt = np.vstack([rt_4fold[f] for f in ifold_train]).astype(int)  # train label\n",
    "    N = Xt.shape[0]\n",
    "\n",
    "    test_Xt = Xt_4fold[iFold].astype(float)  # test input\n",
    "    test_rt = rt_4fold[iFold].astype(int) # train input\n",
    "    test_N = test_Xt.shape[0]\n",
    "\n",
    "    # Xt = np.vstack(Xt_4fold[0:3]).astype(float) # train input\n",
    "    # rt = np.vstack(rt_4fold[0:3]).astype(int)  # train label\n",
    "    # test_Xt = Xt_4fold[3].astype(float)  # test input\n",
    "    # test_rt = rt_4fold[3].astype(int) # train input\n",
    "    ###################################################################\n",
    "    # 1.  Assume  that  the  input  attributes  are multivariate  normal.  Calculate  the  mean  vector  and  covariance matrix for the input attributes in each class using the training data. (10 pts)\n",
    "    ###################################################################\n",
    "\n",
    "    mi = [None, None] # sample mean\n",
    "    Si = [None, None] # sample cov\n",
    "    for i in range(2):\n",
    "        Xti = Xt[np.where(rt==i)[0],:] # get class input\n",
    "        mi[i] = np.mean(Xti,axis=0)\n",
    "        Si[i] = np.cov(Xti.T)\n",
    "    if verbose:\n",
    "        print(f'Q1 --------------------------')\n",
    "        for i in range(2):\n",
    "            print(f'\\nFor class {i}:')\n",
    "            print(f'Mean:{np.round(mi[i],1)}')\n",
    "            print(f'Cov \\n{np.round(Si[i])}')\n",
    "    ###################################################################\n",
    "    # 2. Given your answers in 1, calculate the discriminant function for the testing data.\n",
    "    # Then label each testing sample with the class name. Finally, create a confusion matrix\n",
    "    # to show the classification result for testing data.(Hint: You may store the labels in\n",
    "    # an Excel or .csv file.)(15 pts)\n",
    "    ###################################################################\n",
    "\n",
    "    rhat_t = []\n",
    "    Phat_Ci = [0.5,0.5]\n",
    "    for t in range(test_N):\n",
    "        xt = test_Xt[t] # get sample\n",
    "        # Clac Discriminant for each class i\n",
    "        gi = [None,None]\n",
    "        for i in range(2):\n",
    "            term1 = -0.5*np.log(np.linalg.det(Si[i]))\n",
    "            term2 = -0.5*(xt-mi[i]) @ np.linalg.inv(Si[i]) @ (xt -mi[i]).T\n",
    "            term3 =  np.log(Phat_Ci[i])\n",
    "            gi[i] = term1+term2+term3\n",
    "        # Store prediciton and true label\n",
    "        prediction = np.argmax(gi)\n",
    "        rhat_t.append(prediction)\n",
    "\n",
    "    ConfusionMatrix = confusion_matrix(test_rt, rhat_t)\n",
    "    if verbose:\n",
    "        print(f'\\nQ2 --------------------------')\n",
    "        print(f'Confusion Matrix \\n {ConfusionMatrix}')\n",
    "\n",
    "    ###################################################################\n",
    "    # 3. Given your answers in 1, if pooling the covariance of all classes,\n",
    "    # calculate the discriminant function for the testing data.\n",
    "    # Then label each testing sample with the class name.\n",
    "    # Finally, create a confusion matrix to show the classification result for testing data.\n",
    "    # (Hint: You may store the labels in an Excel or .csv file.)(15 pts)\n",
    "    ###################################################################\n",
    "    S_pooled = (Phat_Ci[0])*Si[0] + (Phat_Ci[1])*Si[1]\n",
    "    rhat_t = []\n",
    "    for t in range(test_N):\n",
    "        xt = test_Xt[t] # get sample\n",
    "        # Clac Discriminant for each class i\n",
    "        gi = [None,None]\n",
    "        for i in range(2):\n",
    "            term1 = -0.5*(xt-mi[i]) @ np.linalg.inv(S_pooled) @ (xt -mi[i]).T\n",
    "            term2 =  np.log(Phat_Ci[i])\n",
    "            gi[i] = term1+term2\n",
    "        # Store prediciton and true label\n",
    "        prediction = np.argmax(gi)\n",
    "        rhat_t.append(prediction)\n",
    "    ConfusionMatrix_pooled = confusion_matrix(test_rt, rhat_t)\n",
    "    if verbose:\n",
    "        print(f'\\nQ3 (pooled) ----------------------')\n",
    "        print(f'Confusion Matrix \\n {ConfusionMatrix}')\n",
    "    ###################################################################\n",
    "    # 4. For the discriminant functions in 2 and 3, respectively,\n",
    "    # calculate  the  average false positive rate, false negative  rate, true  positive  rate,  and true  negative  rate\n",
    "    # for  the  classification  results  throughout  the  4 replicates that you have completed.\n",
    "    # (Hint: you will get four rates for each classification method.) (15 pts)\n",
    "    ###################################################################\n",
    "    if verbose:\n",
    "        print(f'\\nQ4 -----------------------')\n",
    "        fp = ConfusionMatrix[1,0] # false-positive\n",
    "        fn = ConfusionMatrix[0,1] # false-negative\n",
    "        tp = ConfusionMatrix[0,0] # true-positive\n",
    "        tn = ConfusionMatrix[1,1] # true-negative\n",
    "        print(f'Non-Pooled [fp,fn,tp,tn] = {[fp,fn,tp,tn]}')\n",
    "        fp_pooled = ConfusionMatrix_pooled[1,0] # false-positive\n",
    "        fn_pooled = ConfusionMatrix_pooled[0,1] # false-negative\n",
    "        tp_pooled = ConfusionMatrix_pooled[0,0] # true-positive\n",
    "        tn_pooled = ConfusionMatrix_pooled[1,1] # true-negative\n",
    "        print(f'Pooled [fp,fn,tp,tn] = {[fp_pooled,fn_pooled,tp_pooled,tn_pooled]}')\n",
    "\n",
    "    Confusion['fp'].append(ConfusionMatrix[1,0]) # false-positive\n",
    "    Confusion['fn'].append(ConfusionMatrix[0,1]) # false-negative\n",
    "    Confusion['tp'].append(ConfusionMatrix[0,0]) # true-positive\n",
    "    Confusion['tn'].append(ConfusionMatrix[1,1]) # true-negative\n",
    "    Confusion_pooled['fp'].append(ConfusionMatrix_pooled[1,0]) # false-positive\n",
    "    Confusion_pooled['fn'].append(ConfusionMatrix_pooled[0,1]) # false-negative\n",
    "    Confusion_pooled['tp'].append(ConfusionMatrix_pooled[0,0]) # true-positive\n",
    "    Confusion_pooled['tn'].append(ConfusionMatrix_pooled[1,1]) # true-negative\n",
    "\n",
    "\n",
    "fp = np.mean(Confusion['fp'])\n",
    "fn = np.mean(Confusion['fn'])\n",
    "tp = np.mean(Confusion['tp'])\n",
    "tn = np.mean(Confusion['tn'])\n",
    "print(f'Non-Pooled Average [fp,fn,tp,tn] = {[fp,fn,tp,tn]}')\n",
    "print(f'Non-Pooled Accuracy = {(tp+tn)/np.sum([fp,fn,tp,tn])}')\n",
    "fp = np.mean(Confusion_pooled['fp'])\n",
    "fn = np.mean(Confusion_pooled['fn'])\n",
    "tp = np.mean(Confusion_pooled['tp'])\n",
    "tn = np.mean(Confusion_pooled['tn'])\n",
    "print(f'Pooled Average [fp,fn,tp,tn] = {[fp,fn,tp,tn]}')\n",
    "print(f'Pooled Accuracy = {(tp+tn)/np.sum([fp,fn,tp,tn])}')\n"
   ]
  },
  {
   "cell_type": "markdown",
   "id": "36d30bf2",
   "metadata": {},
   "source": [
    "### 5. Briefly describe the performance of each discrimination method and identify the best one for this dataset based on the average performance across 4-fold cross validation.(5 pts)\n",
    "The non-pooled once again favored correctly identifying Kecimen in favor of incorrecly clasifying Besni.\n",
    "However, this time the overall accuracy for the pooled version was better and is therfore better to use from the 4-fold results.\n"
   ]
  },
  {
   "cell_type": "markdown",
   "id": "135f44f5",
   "metadata": {},
   "source": [
    "-----\n",
    "# Part 3(70 pts)\n",
    "For this part, take “Area”, “MajorAxisLength”, “MinorAxisLength”, “Electricity”, “Extent”, “Perimeter” as independent variables, and “ConvexArea” as dependent variables"
   ]
  },
  {
   "cell_type": "markdown",
   "id": "c1eb9447",
   "metadata": {},
   "source": [
    "### 1. Visualize “ConvexArea” against each independent variable and describe the trend and patterns in your plots. (Hints: you will get 6 plots, each with “Area” as the vertical axis and an independent variable as the horizontal axis.) (8 pts)"
   ]
  },
  {
   "cell_type": "code",
   "execution_count": 62,
   "id": "e6af64b1",
   "metadata": {},
   "outputs": [
    {
     "data": {
      "image/png": "[encoded data removed]",
      "text/plain": [
       "<Figure size 640x480 with 6 Axes>"
      ]
     },
     "metadata": {},
     "output_type": "display_data"
    }
   ],
   "source": [
    "def import_data():\n",
    "    N = 900\n",
    "    data = np.loadtxt(\"Raisin_Dataset/Raisin_Dataset.csv\", delimiter=\",\", dtype=object)[1:,:]\n",
    "    data[np.where(data[:, -1] == 'Kecimen'),-1] = 0\n",
    "    data[np.where(data[:, -1] == 'Besni'),-1] = 1\n",
    "    data[:,:-1] = data[:,:-1].astype(float)\n",
    "    # np.random.shuffle(data)\n",
    "    Xt = data[:,:-1].astype(float)\n",
    "    rt = data[:,-1].reshape([N,1]).astype(int)\n",
    "    return Xt,rt\n",
    "Xt,rt = import_data()\n",
    "Area = Xt[:,0]\n",
    "MajorAL = Xt[:,1]\n",
    "MinorAL = Xt[:,2]\n",
    "Eccentricity = Xt[:,3]\n",
    "ConvexArea = Xt[:,4]\n",
    "Extent = Xt[:,5]\n",
    "Perimeter = Xt[:,6]\n",
    "\n",
    "fig,axs = plt.subplots(2,3,constrained_layout=True)\n",
    "\n",
    "\n",
    "r,c = 0,0; axs[r,c].scatter(Area,ConvexArea,s=1); axs[r,c].set_xlabel('Area'); axs[r,c].set_ylabel('ConvexArea')\n",
    "r,c = 0,1; axs[r,c].scatter(MajorAL,ConvexArea,s=1); axs[r,c].set_xlabel('MajorAL'); axs[r,c].set_ylabel('ConvexArea')\n",
    "r,c = 0,2; axs[r,c].scatter(MinorAL,ConvexArea,s=1); axs[r,c].set_xlabel('MinorAL'); axs[r,c].set_ylabel('ConvexArea')\n",
    "r,c = 1,0; axs[r,c].scatter(Eccentricity,ConvexArea,s=1); axs[r,c].set_xlabel('Eccentricity'); axs[r,c].set_ylabel('ConvexArea')\n",
    "r,c = 1,1; axs[r,c].scatter(Extent,ConvexArea,s=1); axs[r,c].set_xlabel('Extent'); axs[r,c].set_ylabel('ConvexArea')\n",
    "r,c = 1,2; axs[r,c].scatter(Perimeter,ConvexArea,s=1); axs[r,c].set_xlabel('Perimeter'); axs[r,c].set_ylabel('ConvexArea')\n",
    "plt.show()"
   ]
  },
  {
   "cell_type": "markdown",
   "id": "89a1edc4",
   "metadata": {},
   "source": [
    "There is a linear relationship between ConvexArea and [Area, MajorAL, MinorAL, and Perimeter] and not much of a relationship between eccentricity and extent."
   ]
  },
  {
   "cell_type": "markdown",
   "id": "deae8cab",
   "metadata": {},
   "source": [
    "### 2. Use the first 600 samples in the dataset as the training data and the rest as the testing data. Calculate the correlation matrix for all dependent and independent variables for the training data. Based on the correlation matrix, identify which independent variables have major impact to the dependent variable. Does the impact imply a causal relationship and why? (Hint: Save the correlations in an Excel or .csv file.) (8 pts)\n"
   ]
  },
  {
   "cell_type": "code",
   "execution_count": 63,
   "id": "cd990aa7",
   "metadata": {},
   "outputs": [
    {
     "name": "stdout",
     "output_type": "stream",
     "text": [
      "[[ 1.       0.93361  0.88856  0.30033  0.99506 -0.11763  0.96388]\n",
      " [ 0.93361  1.       0.70054  0.54834  0.94691 -0.29956  0.97768]\n",
      " [ 0.88856  0.70054  1.      -0.10172  0.87337  0.08452  0.80862]\n",
      " [ 0.30033  0.54834 -0.10172  1.       0.3136  -0.41071  0.40507]\n",
      " [ 0.99506  0.94691  0.87337  0.3136   1.      -0.16052  0.97963]\n",
      " [-0.11763 -0.29956  0.08452 -0.41071 -0.16052  1.      -0.26105]\n",
      " [ 0.96388  0.97768  0.80862  0.40507  0.97963 -0.26105  1.     ]]\n",
      "\n",
      "ConvexArea Corr:[ 0.9951  0.9469  0.8734  0.3136  1.     -0.1605  0.9796]\n"
     ]
    }
   ],
   "source": [
    "train_Xt = Xt[:600,:]\n",
    "d = 7\n",
    "corr_mat = np.zeros([d,d])\n",
    "for i in range(d):\n",
    "    for j in range(d):\n",
    "        corr_mat[i,j] = np.corrcoef(train_Xt[:,i],train_Xt[:,j])[0, 1]\n",
    "print(np.round(corr_mat,5))\n",
    "print(f'\\nConvexArea Corr:{np.round(corr_mat[4,:],4)}')"
   ]
  },
  {
   "cell_type": "markdown",
   "id": "b459de95",
   "metadata": {},
   "source": [
    "The most corralated IDV are [Area, MajorAL, MinorAL, and Perimeter] where causation is not implied since correlation does not imply causation."
   ]
  },
  {
   "cell_type": "markdown",
   "id": "9f74239d",
   "metadata": {},
   "source": [
    "### 3. Use Python to fit a linear regression model using the training data. Summarize the model coefficients. Based on the coefficients, which independent variables have more impact  to the dependent variable? (10 pts)"
   ]
  },
  {
   "cell_type": "code",
   "execution_count": 64,
   "id": "804884fb",
   "metadata": {},
   "outputs": [
    {
     "name": "stdout",
     "output_type": "stream",
     "text": [
      "Coeff: [ 9.300000e-01 -8.927000e+01 -1.250100e+02 -1.448323e+04  1.019630e+03\n",
      "  7.634000e+01]\n"
     ]
    }
   ],
   "source": [
    "from sklearn.linear_model import LinearRegression\n",
    "train_X = np.hstack([train_Xt[:,:4],train_Xt[:,5:d]])\n",
    "train_y = train_Xt[:,4]\n",
    "reg = LinearRegression().fit(train_X, train_y)\n",
    "print(f'Coeff: {np.around(reg.coef_,2)}')"
   ]
  },
  {
   "cell_type": "markdown",
   "id": "8cda85af",
   "metadata": {},
   "source": [
    "Here. Eccentricity and Extent have the highest weights in the regression model."
   ]
  },
  {
   "cell_type": "markdown",
   "id": "f61a810d",
   "metadata": {},
   "source": [
    "\n",
    "### 4. Use the model fitted in 3 to make predictions for testing data. Calculate the mean squared errorfor the testing samples with respect to the predictions. Do you think the model has a good prediction performance? (Hint:  input  the  testing  samples  of  independent  variables  into  your  fitted  model  and  then  evaluate  the prediction against the true sample values of dependent variable.) (8 pts)"
   ]
  },
  {
   "cell_type": "code",
   "execution_count": 65,
   "id": "fed4cacc",
   "metadata": {},
   "outputs": [
    {
     "name": "stdout",
     "output_type": "stream",
     "text": [
      "MSE over Training Samples: 3283452\n",
      "Mean Absolute Error Training: 1200\n",
      "\n",
      "Mean Test Value: 113186\n",
      "MSE Test Value: 4975404\n",
      "Mean Percent Error Test Value: 0.01\n"
     ]
    }
   ],
   "source": [
    "test_X = np.hstack([Xt[600:,:4],Xt[600:,5:d]])\n",
    "test_y = Xt[600:,4]\n",
    "\n",
    "pred_y = reg.predict(train_X)\n",
    "MAE = np.mean(np.abs(train_y-pred_y))\n",
    "MSE = np.mean(np.power(train_y-pred_y,2))\n",
    "print(f'MSE over Training Samples: {round(MSE)}')\n",
    "print(f'Mean Absolute Error Training: {round(MAE)}')\n",
    "\n",
    "\n",
    "\n",
    "pred_y = reg.predict(test_X)\n",
    "MAE = np.mean(np.abs(test_y-pred_y))\n",
    "MSE = np.mean(np.power(test_y-pred_y,2))\n",
    "print(f'\\nMean Test Value: {round(np.mean(test_y))}')\n",
    "print(f'MSE Test Value: {round(MSE)}')\n",
    "print(f'Mean Percent Error Test Value: {round(MAE/np.mean(test_y),2)}')"
   ]
  },
  {
   "cell_type": "markdown",
   "id": "b715d01f",
   "metadata": {},
   "source": [
    "That is fairly good performance since the magnitude of the y-value is so large. The mean deviation (absolute error) was about 1% which is good."
   ]
  },
  {
   "cell_type": "markdown",
   "id": "88604e55",
   "metadata": {},
   "source": [
    "  ### 5. Based  on  result  in  3,  do  you  think  that  the  independent  variables  are  mutually  linearly  independent? What’s the influence on the linear regression model with the appearance of linear dependence among independent variables? (5 pts)\n",
    "  No, the variables are not all mutually independant. I would expect a higher contribution of Area, due to the strong linear relationship with ConvexArea, in the regression weights but apparently the variance explained by Area is already explained, to a better degree, by other features since Area is linearly dependent on other features."
   ]
  },
  {
   "cell_type": "markdown",
   "id": "d31199dd",
   "metadata": {},
   "source": [
    "### 6. Perform Principal Component Analysis on the training data matrix of independent variables. Show the variance explained by each principal component. (6 pts)"
   ]
  },
  {
   "cell_type": "code",
   "execution_count": 66,
   "id": "91914b3d",
   "metadata": {},
   "outputs": [
    {
     "name": "stdout",
     "output_type": "stream",
     "text": [
      "Variance Explained (for each PC):\n",
      "[1.18541399e+09 5.82831361e+03 6.84475923e+02 5.20560536e+01\n",
      " 2.03580498e-03 1.66859749e-03]\n"
     ]
    }
   ],
   "source": [
    "from sklearn.decomposition import PCA\n",
    "pca = PCA()\n",
    "pca.fit(train_X)\n",
    "eigvecs = pca.components_\n",
    "eigvals = pca.explained_variance_\n",
    "print(f'Variance Explained (for each PC):\\n{eigvals}')\n"
   ]
  },
  {
   "cell_type": "markdown",
   "id": "3363dd69",
   "metadata": {},
   "source": [
    "### 7. Visualize a Pareto chart for the variance explained by each principal component. (10 pts)"
   ]
  },
  {
   "cell_type": "code",
   "execution_count": 67,
   "id": "146c11f4",
   "metadata": {},
   "outputs": [
    {
     "data": {
      "image/png": "[encoded data removed]",
      "text/plain": [
       "<Figure size 640x480 with 2 Axes>"
      ]
     },
     "metadata": {},
     "output_type": "display_data"
    }
   ],
   "source": [
    "fig,ax = plt.subplots(1,1)\n",
    "labels = [f'PC{iPC+1}' for iPC in range(len(eigvals))]\n",
    "\n",
    "ax.set_title('Pareto Chart')\n",
    "ax.bar(labels,eigvals)\n",
    "ax.set_yscale(\"log\")\n",
    "\n",
    "PoV = [np.sum(eigvals[:iPC+1])/np.sum(eigvals) for iPC in range(len(eigvals))]\n",
    "ax2 = ax.twinx()\n",
    "ax2.plot(labels,PoV,c='red',marker='.')\n",
    "ax2.tick_params(axis='y', colors='red')"
   ]
  },
  {
   "cell_type": "markdown",
   "id": "2d8bded7",
   "metadata": {},
   "source": [
    " ### 8. Take the first 3 principal components from 7 and fit a multivariate regression model. Do prediction with the model for testing samples and calculate the mean squared error. (Hint: You need to transform the testing data to principal components as well.) (10 pts)"
   ]
  },
  {
   "cell_type": "code",
   "execution_count": 68,
   "id": "9f72b0d0",
   "metadata": {},
   "outputs": [
    {
     "name": "stdout",
     "output_type": "stream",
     "text": [
      "\n",
      "Mean Test Value: 113186\n",
      "MSE Test Value: 5941078\n",
      "Mean Percent Error Test Value: 0.02\n"
     ]
    }
   ],
   "source": [
    "# train_X = np.hstack([train_Xt[:,:4],train_Xt[:,5:d]])\n",
    "# train_y = train_Xt[:,4]\n",
    "pca = PCA(n_components = 3)\n",
    "pca.fit(train_X)\n",
    "reg = LinearRegression().fit(pca.transform(train_X), train_y)\n",
    "\n",
    "pred_y = reg.predict(pca.transform(test_X))\n",
    "MAE = np.mean(np.abs(test_y-pred_y))\n",
    "MSE = np.mean(np.power(test_y-pred_y,2))\n",
    "print(f'\\nMean Test Value: {round(np.mean(test_y))}')\n",
    "print(f'MSE Test Value: {round(MSE)}')\n",
    "print(f'Mean Percent Error Test Value: {round(MAE/np.mean(test_y),2)}')\n"
   ]
  },
  {
   "cell_type": "markdown",
   "id": "44f55263",
   "metadata": {},
   "source": [
    "### 9.  Give  a  practical  scenario  when  you  will  use Principal  Component  Analysis to  reduce  the  data dimensionality before fitting a regression model; give a practical scenario when you will NOT use Principal Component  Analysis to reduce the  data  dimensionality  before  fitting  a  regression  model.  (Hint:  you  can name any data source and/or situations, which is not necessarily related to the Raison dataset.) (5 pts)\n",
    "\n",
    "WHEN TO USE PCA: PCA is useful when the number of input features is unnecessarily large (e.g., d=1,000,000) since we can likley explain most of the variance in the first few components. This is useful during model fitting because the optimization is much more efficient with less input features. Also, this will help in reducing extraneous data from effecting model performance. For example, predicting heart disease based on hundreds of predictors from a patient's medical history may be useful to apply PCA.\n",
    "\n",
    "WHEN NOT TO USE PCA: PCA should generally not be applied when the number of input features is feasible to compute with. This is because PCA reduces the amount of information in the input features but maximizes the number of input features-variance explained tradeoff. Therefore, if we are not gaining advantage in tractability from applying PCA and the PoV with less amount of features is not significant, then we should not apply it. An example of this would be predicting height based on age, foot size, and weight. These are relatively independent observations where reducing dimensionality would result in much information loss with little gain."
   ]
  }
 ],
 "metadata": {
  "kernelspec": {
   "display_name": "Python 3 (ipykernel)",
   "language": "python",
   "name": "python3"
  },
  "language_info": {
   "codemirror_mode": {
    "name": "ipython",
    "version": 3
   },
   "file_extension": ".py",
   "mimetype": "text/x-python",
   "name": "python",
   "nbconvert_exporter": "python",
   "pygments_lexer": "ipython3",
   "version": "3.9.0"
  }
 },
 "nbformat": 4,
 "nbformat_minor": 5
}

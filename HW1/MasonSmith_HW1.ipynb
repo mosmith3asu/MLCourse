{
 "cells": [
  {
   "cell_type": "markdown",
   "source": [
    "# Homework 1\n",
    "## Mason Smith"
   ],
   "metadata": {
    "collapsed": false
   },
   "id": "f2ef7fa712f51941"
  },
  {
   "cell_type": "code",
   "execution_count": 51,
   "outputs": [],
   "source": [
    "# Import data and packages\n",
    "import numpy as np\n",
    "X = np.loadtxt(\"Raisin_Dataset/Raisin_Dataset.csv\", delimiter=\",\", dtype=object)\n",
    "X[1:,:-1] = X[1:,:-1].astype(float)"
   ],
   "metadata": {
    "collapsed": false,
    "ExecuteTime": {
     "end_time": "2023-09-14T17:07:39.368214611Z",
     "start_time": "2023-09-14T17:07:39.323754707Z"
    }
   },
   "id": "be12c3ffac1fbf82"
  },
  {
   "cell_type": "markdown",
   "source": [
    "# Part 1"
   ],
   "metadata": {
    "collapsed": false
   },
   "id": "caa16ae11fc56820"
  },
  {
   "cell_type": "markdown",
   "source": [
    "### 1. What is the number of classes in this dataset? (2 pts)\n",
    "ANS: There are 2 classes: Kecimen and Besni raisin.\n",
    "\n",
    "### 2. Calculate the log odds for the data. Write the discriminant function in terms of the log odds. (6 pts)\n",
    "Log Odds: $log\\frac{P(C_1|\\mathbf{x})}{P(C_2|\\mathbf{x})}$\n",
    "Let: $C_1$ be Kecimen and $C_2$ be Besni"
   ],
   "metadata": {
    "collapsed": false
   },
   "id": "20553c5c7e3c5a65"
  },
  {
   "cell_type": "code",
   "execution_count": 52,
   "outputs": [
    {
     "name": "stdout",
     "output_type": "stream",
     "text": [
      "Log Odds = 0.0\n"
     ]
    }
   ],
   "source": [
    "N = X[1:,:-1].shape[0]\n",
    "P1 = np.sum((X[:,-1]=='Kecimen').astype(int))/N\n",
    "P2 = np.sum((X[:,-1]=='Besni').astype(int))/N\n",
    "LO = np.log(P1/P2)\n",
    "print(f'Log Odds = {LO}')"
   ],
   "metadata": {
    "collapsed": false,
    "ExecuteTime": {
     "end_time": "2023-09-14T17:07:39.373982118Z",
     "start_time": "2023-09-14T17:07:39.368021452Z"
    }
   },
   "id": "1a321a6b27830cf2"
  },
  {
   "cell_type": "markdown",
   "source": [
    "Discriminant Function: INCOMPLETE"
   ],
   "metadata": {
    "collapsed": false
   },
   "id": "a74f7780a3ad44b"
  },
  {
   "cell_type": "markdown",
   "source": [
    "### 3. Assume that the input attributes are multivariate normal. Further assume that the input attributes in each class follow a different multivariate distribution. Calculate the mean vector and covariance matrix for the input attributes in each class. (Hint: consider your answer in 1. You should obtain this many sets of mean vector and covariance matrix.) (8 pts)"
   ],
   "metadata": {
    "collapsed": false
   },
   "id": "8c6305d7d350f72d"
  },
  {
   "cell_type": "code",
   "execution_count": 52,
   "outputs": [],
   "source": [],
   "metadata": {
    "collapsed": false,
    "ExecuteTime": {
     "end_time": "2023-09-14T17:07:39.374636957Z",
     "start_time": "2023-09-14T17:07:39.373320667Z"
    }
   },
   "id": "5f96edc3710b9854"
  }
 ],
 "metadata": {
  "kernelspec": {
   "display_name": "Python 3",
   "language": "python",
   "name": "python3"
  },
  "language_info": {
   "codemirror_mode": {
    "name": "ipython",
    "version": 2
   },
   "file_extension": ".py",
   "mimetype": "text/x-python",
   "name": "python",
   "nbconvert_exporter": "python",
   "pygments_lexer": "ipython2",
   "version": "2.7.6"
  }
 },
 "nbformat": 4,
 "nbformat_minor": 5
}
